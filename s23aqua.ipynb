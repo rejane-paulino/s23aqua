{
 "cells": [
  {
   "cell_type": "markdown",
   "id": "d8033a7a-a494-4910-885d-436bd42a5b84",
   "metadata": {},
   "source": [
    "# S2/3Aqua (Sentinel-2/3 Synthetic Aquatic Reflectance Bands) <img src=\"img/s23aqua.svg\" width=\"200\" align=\"right\" />\n",
    "The S2/3Aqua is a proto-algorithm that integrates spatial and spectral domains from the Sentinel-2 MSI and Sentinel-3 OLCI images using multivariate regressor models. The S2/3Aqua combines these two sensors to create a new set of synthetic multi-band products that preserve each sensor’s unique characteristics. Here, eight synthetic eight spectral bands (from visible to red-edge domains) at 10-m spatial resolution are generated, making the S2/3Aqua product suitable for addressing the challenges relating to inland waters, such as mapping of potentially harmful algal blooms and enhanced estimative of chlorophyll-a and suspended matter. This proto-algorithm contains three main steps: (1) creation of spatially degraded 10-m Sentinel-2 MSI images using a Point Spread Function; (2) selection of spectral samples across Sentinel-2/3 images using cluster-based sampling approach; and (3) generation of 10-m eight synthetic spectral bands from multivariate regressor models.\n",
    "\n",
    "Author: Paulino (Jan-3-2025)\n",
    "\n",
    "Reference: \n",
    "Paulino, R.S. et al. Generation of robust 10-m Sentinel-2/3 synthetic aquatic reflectance bands over inland waters. Remote Sensing of Environment 318, 114593, 2025. https://doi.org/10.1016/j.rse.2024.114593   "
   ]
  },
  {
   "cell_type": "markdown",
   "id": "197cb2de-b5d6-415f-a567-59d6bb20eac9",
   "metadata": {},
   "source": [
    "### Input Data:\n",
    "\n",
    "* *path_MSI:* directory with Sentinel-2 MSI images;\n",
    "* *path_OLCI:* directory with Sentinel-3 OLCI images;\n",
    "* *roi:* path with shapefile from region-of-interest;\n",
    "* *dest:* output directory.\n"
   ]
  },
  {
   "cell_type": "markdown",
   "id": "93210086-47dc-4b7a-9326-bcbfea690dce",
   "metadata": {},
   "source": [
    "### Output Data: \n",
    "\n",
    "Eight spectral bands at 10-meters (.TIFF) and a file MTD.xml are available in *dest*: `S23AQUA_YYYYMMDD_XXXX_OaXX.tif` and `MTD.xml`."
   ]
  },
  {
   "cell_type": "markdown",
   "id": "56e726e0-e3f2-4eb0-9fe2-e82ecdb606e3",
   "metadata": {},
   "source": [
    "### Runs the S2/3Aqua:"
   ]
  },
  {
   "cell_type": "code",
   "execution_count": 1,
   "id": "553c0f5a-65b4-4405-84ac-50c20f8b737e",
   "metadata": {},
   "outputs": [],
   "source": [
    "from s23aqua import S23aqua"
   ]
  },
  {
   "cell_type": "markdown",
   "id": "090c94e5-8bbd-4cc9-a10a-7cd85180ef3c",
   "metadata": {},
   "source": [
    "### Inserts the input:"
   ]
  },
  {
   "cell_type": "code",
   "execution_count": 2,
   "id": "0824137d-5dc2-4e8d-beda-8e5c8ed3d399",
   "metadata": {},
   "outputs": [],
   "source": [
    "path_MSI = r'R:\\guser\\rsp\\PhD\\papers\\spectralharmonization\\time_series\\dataset\\BIL\\SR\\S2X_MSIL1C_\\S2A_MSIL1C_20210401T131241_N0500_R138_T23KLP_20230511T115409.SAFE\\SatClouds'\n",
    "path_OLCI = r'R:\\guser\\rsp\\PhD\\papers\\spectralharmonization\\time_series\\dataset\\BIL\\SR\\S3X_OL_1_EFR_\\S3B_OL_1_EFR____20210401T125029_20210401T125329_20210402T171959_0179_050_380_3420_LN1_O_NT_002.SEN3\\SatClouds'\n",
    "roi = r\"R:\\guser\\rsp\\PhD\\papers\\spectralharmonization\\time_series\\dataset\\BIL\\ROI\\roi_billings_4326.shp\"\n",
    "dest = r'C:\\Users\\rdp282\\Downloads\\pace_imgs'"
   ]
  },
  {
   "cell_type": "markdown",
   "id": "fdec42c6-3e56-46d4-b552-475db6af609a",
   "metadata": {},
   "source": [
    "### Loads the S2/3Aqua:"
   ]
  },
  {
   "cell_type": "code",
   "execution_count": 3,
   "id": "59903efb-551a-4c2e-a33f-fcce44d7f881",
   "metadata": {},
   "outputs": [
    {
     "name": "stderr",
     "output_type": "stream",
     "text": [
      "S23AQUA_20210401_T23KLP:  43%|█████████████████████████▎                                 | 3/7 [01:52<02:29, 37.35s/it]\n"
     ]
    },
    {
     "ename": "IndexError",
     "evalue": "list index out of range",
     "output_type": "error",
     "traceback": [
      "\u001b[1;31m---------------------------------------------------------------------------\u001b[0m",
      "\u001b[1;31mIndexError\u001b[0m                                Traceback (most recent call last)",
      "Cell \u001b[1;32mIn[3], line 2\u001b[0m\n\u001b[0;32m      1\u001b[0m s23aqua \u001b[38;5;241m=\u001b[39m S23aqua(path_MSI, path_OLCI, roi, dest)\n\u001b[1;32m----> 2\u001b[0m \u001b[43ms23aqua\u001b[49m\u001b[38;5;241;43m.\u001b[39;49m\u001b[43mrun\u001b[49m\u001b[43m(\u001b[49m\u001b[43m)\u001b[49m\n",
      "File \u001b[1;32m~\\Downloads\\s23aqua\\s23aqua.py:41\u001b[0m, in \u001b[0;36mS23aqua.run\u001b[1;34m(self)\u001b[0m\n\u001b[0;32m     39\u001b[0m \u001b[38;5;28;01mwith\u001b[39;00m tqdm(total\u001b[38;5;241m=\u001b[39m\u001b[38;5;28mlen\u001b[39m(process), desc\u001b[38;5;241m=\u001b[39m\u001b[38;5;124m'\u001b[39m\u001b[38;5;124mS23AQUA_\u001b[39m\u001b[38;5;124m'\u001b[39m \u001b[38;5;241m+\u001b[39m meta\u001b[38;5;241m.\u001b[39mdate \u001b[38;5;241m+\u001b[39m \u001b[38;5;124m'\u001b[39m\u001b[38;5;124m_\u001b[39m\u001b[38;5;124m'\u001b[39m \u001b[38;5;241m+\u001b[39m meta\u001b[38;5;241m.\u001b[39mgrid) \u001b[38;5;28;01mas\u001b[39;00m pbar:\n\u001b[0;32m     40\u001b[0m     \u001b[38;5;28;01mfor\u001b[39;00m i \u001b[38;5;129;01min\u001b[39;00m process:\n\u001b[1;32m---> 41\u001b[0m         \u001b[43mi\u001b[49m\u001b[38;5;241;43m.\u001b[39;49m\u001b[43mrun\u001b[49m\u001b[43m(\u001b[49m\u001b[43m)\u001b[49m\n\u001b[0;32m     42\u001b[0m         pbar\u001b[38;5;241m.\u001b[39mupdate(\u001b[38;5;241m1\u001b[39m)\n\u001b[0;32m     43\u001b[0m \u001b[38;5;66;03m# Exporting the MTD:\u001b[39;00m\n",
      "File \u001b[1;32m~\\Downloads\\s23aqua\\sampling\\LUT.py:34\u001b[0m, in \u001b[0;36mLUT.run\u001b[1;34m(self)\u001b[0m\n\u001b[0;32m     32\u001b[0m \u001b[38;5;28;01mfor\u001b[39;00m point_coors, point_id \u001b[38;5;129;01min\u001b[39;00m \u001b[38;5;28mzip\u001b[39m(coor[\u001b[38;5;241m0\u001b[39m], coor[\u001b[38;5;241m1\u001b[39m]):\n\u001b[0;32m     33\u001b[0m     value \u001b[38;5;241m=\u001b[39m \u001b[38;5;28mself\u001b[39m\u001b[38;5;241m.\u001b[39mvalues(images, point_coors)\n\u001b[1;32m---> 34\u001b[0m     data\u001b[38;5;241m.\u001b[39mappend(\u001b[38;5;28;43mself\u001b[39;49m\u001b[38;5;241;43m.\u001b[39;49m\u001b[43mmerge\u001b[49m\u001b[43m(\u001b[49m\u001b[43mvalue\u001b[49m\u001b[43m,\u001b[49m\u001b[43m \u001b[49m\u001b[43mpoint_id\u001b[49m\u001b[43m,\u001b[49m\u001b[43m \u001b[49m\u001b[38;5;28;43mself\u001b[39;49m\u001b[38;5;241;43m.\u001b[39;49m\u001b[43mparameters\u001b[49m\u001b[38;5;241;43m.\u001b[39;49m\u001b[43mMSIBAND\u001b[49m\u001b[43m,\u001b[49m\u001b[43m \u001b[49m\u001b[38;5;28;43mself\u001b[39;49m\u001b[38;5;241;43m.\u001b[39;49m\u001b[43mparameters\u001b[49m\u001b[38;5;241;43m.\u001b[39;49m\u001b[43mMSI\u001b[49m\u001b[43m)\u001b[49m)\n\u001b[0;32m     35\u001b[0m data \u001b[38;5;241m=\u001b[39m pd\u001b[38;5;241m.\u001b[39mconcat(data)\n\u001b[0;32m     36\u001b[0m valuesperband \u001b[38;5;241m=\u001b[39m []\n",
      "File \u001b[1;32m~\\Downloads\\s23aqua\\sampling\\LUT.py:111\u001b[0m, in \u001b[0;36mLUT.merge\u001b[1;34m(self, values, point, index, sensor)\u001b[0m\n\u001b[0;32m    109\u001b[0m trans \u001b[38;5;241m=\u001b[39m []\n\u001b[0;32m    110\u001b[0m \u001b[38;5;28;01mfor\u001b[39;00m i \u001b[38;5;129;01min\u001b[39;00m \u001b[38;5;28mrange\u001b[39m(\u001b[38;5;241m0\u001b[39m, \u001b[38;5;28mlen\u001b[39m(index)):\n\u001b[1;32m--> 111\u001b[0m     trans\u001b[38;5;241m.\u001b[39mappend(\u001b[43mvalues\u001b[49m\u001b[43m[\u001b[49m\u001b[43mi\u001b[49m\u001b[43m]\u001b[49m\u001b[38;5;241m.\u001b[39mtranspose()\u001b[38;5;241m.\u001b[39mset_axis([\u001b[38;5;28mstr\u001b[39m(index[i])], axis\u001b[38;5;241m=\u001b[39m\u001b[38;5;124m'\u001b[39m\u001b[38;5;124mcolumns\u001b[39m\u001b[38;5;124m'\u001b[39m))\n\u001b[0;32m    112\u001b[0m output \u001b[38;5;241m=\u001b[39m [trans[\u001b[38;5;241m0\u001b[39m]]\n\u001b[0;32m    113\u001b[0m \u001b[38;5;28;01mfor\u001b[39;00m j \u001b[38;5;129;01min\u001b[39;00m \u001b[38;5;28mrange\u001b[39m(\u001b[38;5;241m1\u001b[39m, \u001b[38;5;28mlen\u001b[39m(trans)):\n",
      "\u001b[1;31mIndexError\u001b[0m: list index out of range"
     ]
    }
   ],
   "source": [
    "s23aqua = S23aqua(path_MSI, path_OLCI, roi, dest)\n",
    "s23aqua.run()"
   ]
  }
 ],
 "metadata": {
  "kernelspec": {
   "display_name": "Python(S23Aqua)",
   "language": "python",
   "name": "s23aqua"
  },
  "language_info": {
   "codemirror_mode": {
    "name": "ipython",
    "version": 3
   },
   "file_extension": ".py",
   "mimetype": "text/x-python",
   "name": "python",
   "nbconvert_exporter": "python",
   "pygments_lexer": "ipython3",
   "version": "3.13.1"
  }
 },
 "nbformat": 4,
 "nbformat_minor": 5
}
