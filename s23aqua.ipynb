{
 "cells": [
  {
   "cell_type": "markdown",
   "id": "d8033a7a-a494-4910-885d-436bd42a5b84",
   "metadata": {},
   "source": [
    "# S2/3Aqua (Sentinel-2/3 Synthetic Aquatic Reflectance Bands) <img src=\"img/s23aqua.svg\" width=\"200\" align=\"right\" />\n",
    "The S2/3Aqua is a proto-algorithm that integrates spatial and spectral domains from the Sentinel-2 MSI and Sentinel-3 OLCI images using multivariate regressor models. The S2/3Aqua combines these two sensors to create a new set of synthetic multi-band products that preserve each sensor’s unique characteristics. Here, eight synthetic eight spectral bands (from visible to red-edge domains) at 10-m spatial resolution are generated, making the S2/3Aqua product suitable for addressing the challenges relating to inland waters, such as mapping of potentially harmful algal blooms and enhanced estimative of chlorophyll-a and suspended matter. This proto-algorithm contains three main steps: (1) creation of spatially degraded 10-m Sentinel-2 MSI images using a Point Spread Function; (2) selection of spectral samples across Sentinel-2/3 images using cluster-based sampling approach; and (3) generation of 10-m eight synthetic spectral bands from multivariate regressor models.\n",
    "\n",
    "Author: Paulino (Jan-3-2025)\n",
    "\n",
    "Reference: \n",
    "Paulino, R.S. et al. Generation of robust 10-m Sentinel-2/3 synthetic aquatic reflectance bands over inland waters. Remote Sensing of Environment 318, 114593, 2025. https://doi.org/10.1016/j.rse.2024.114593   "
   ]
  },
  {
   "cell_type": "markdown",
   "id": "197cb2de-b5d6-415f-a567-59d6bb20eac9",
   "metadata": {},
   "source": [
    "### Input Data:\n",
    "\n",
    "* *path_MSI:* directory with Sentinel-2 MSI images;\n",
    "* *path_OLCI:* directory with Sentinel-3 OLCI images;\n",
    "* *roi:* path with shapefile from region-of-interest;\n",
    "* *dest:* output directory.\n"
   ]
  },
  {
   "cell_type": "markdown",
   "id": "93210086-47dc-4b7a-9326-bcbfea690dce",
   "metadata": {},
   "source": [
    "### Output Data: \n",
    "\n",
    "Eight spectral bands at 10-meters (.TIFF) and a file MTD.xml are available in *dest*: `S23AQUA_YYYYMMDD_XXXX_OaXX.tif` and `MTD.xml`."
   ]
  },
  {
   "cell_type": "markdown",
   "id": "56e726e0-e3f2-4eb0-9fe2-e82ecdb606e3",
   "metadata": {},
   "source": [
    "### Runs the S2/3Aqua:"
   ]
  },
  {
   "cell_type": "code",
   "execution_count": null,
   "id": "553c0f5a-65b4-4405-84ac-50c20f8b737e",
   "metadata": {},
   "outputs": [],
   "source": [
    "from s23aqua import S23aqua"
   ]
  },
  {
   "cell_type": "markdown",
   "id": "090c94e5-8bbd-4cc9-a10a-7cd85180ef3c",
   "metadata": {},
   "source": [
    "### Inserts the input:"
   ]
  },
  {
   "cell_type": "code",
   "execution_count": null,
   "id": "0824137d-5dc2-4e8d-beda-8e5c8ed3d399",
   "metadata": {},
   "outputs": [],
   "source": [
    "path_MSI = r'C:\\...'\n",
    "path_OLCI = r'C:\\...'\n",
    "roi = r'C:\\...'\n",
    "dest = r'C:\\...'"
   ]
  },
  {
   "cell_type": "markdown",
   "id": "fdec42c6-3e56-46d4-b552-475db6af609a",
   "metadata": {},
   "source": [
    "### Loads the S2/3Aqua:"
   ]
  },
  {
   "cell_type": "code",
   "execution_count": null,
   "id": "59903efb-551a-4c2e-a33f-fcce44d7f881",
   "metadata": {},
   "outputs": [],
   "source": [
    "s23aqua = S23aqua(path_MSI, path_OLCI, roi, dest)\n",
    "s23aqua.run()"
   ]
  }
 ],
 "metadata": {
  "kernelspec": {
   "display_name": "Python(S23Aqua)",
   "language": "python",
   "name": "s23aqua"
  },
  "language_info": {
   "codemirror_mode": {
    "name": "ipython",
    "version": 3
   },
   "file_extension": ".py",
   "mimetype": "text/x-python",
   "name": "python",
   "nbconvert_exporter": "python",
   "pygments_lexer": "ipython3",
   "version": "3.13.1"
  }
 },
 "nbformat": 4,
 "nbformat_minor": 5
}
